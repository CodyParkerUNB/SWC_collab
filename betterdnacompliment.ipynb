{
 "metadata": {
  "name": ""
 },
 "nbformat": 3,
 "nbformat_minor": 0,
 "worksheets": [
  {
   "cells": [
    {
     "cell_type": "code",
     "collapsed": false,
     "input": [
      "def dna_sequence_compliment (dna):\n",
      "    dna=dna.replace('C', 'M')\n",
      "    dna=dna.replace('G', 'C')\n",
      "    dna=dna.replace('M', 'G')\n",
      "    dna=dna.replace('A', 'M')\n",
      "    dna=dna.replace('T', 'A')\n",
      "    dna=dna.replace('M', 'T')\n",
      "    return dna"
     ],
     "language": "python",
     "metadata": {},
     "outputs": [],
     "prompt_number": 1
    },
    {
     "cell_type": "code",
     "collapsed": false,
     "input": [
      "seq = 'CGTGAGGCCTTTTGTAAAGCCCTATATATAGCGCGTTTTA'\n",
      "print seq\n",
      "print dna_sequence_compliment (seq)"
     ],
     "language": "python",
     "metadata": {},
     "outputs": [
      {
       "output_type": "stream",
       "stream": "stdout",
       "text": [
        "CGTGAGGCCTTTTGTAAAGCCCTATATATAGCGCGTTTTA\n",
        "GCACTCCGGAAAACATTTCGGGATATATATCGCGCAAAAT\n"
       ]
      }
     ],
     "prompt_number": 3
    },
    {
     "cell_type": "code",
     "collapsed": false,
     "input": [
      "\"A\" in 'ACGT'"
     ],
     "language": "python",
     "metadata": {},
     "outputs": [
      {
       "metadata": {},
       "output_type": "pyout",
       "prompt_number": 4,
       "text": [
        "True"
       ]
      }
     ],
     "prompt_number": 4
    },
    {
     "cell_type": "code",
     "collapsed": false,
     "input": [
      "if 'A' in 'ACGT':\n",
      "    print \"Yup, got it\"\n",
      "else:\n",
      "    print 'NO!'"
     ],
     "language": "python",
     "metadata": {},
     "outputs": [
      {
       "output_type": "stream",
       "stream": "stdout",
       "text": [
        "Yup, got it\n"
       ]
      }
     ],
     "prompt_number": 6
    },
    {
     "cell_type": "code",
     "collapsed": false,
     "input": [
      "def dna_sequence_compliment (dna):\n",
      "    \"\"\"This function is intended to take a DNA string and return its compliment not the reverse compliment\"\"\"    \n",
      "    dna=dna.upper()\n",
      "    for c in dna:\n",
      "        assert c in 'ACGT' \n",
      "    dna=dna.replace('C', 'g')\n",
      "    dna=dna.replace('G', 'c')\n",
      "    dna=dna.replace('T', 'a')\n",
      "    dna=dna.replace('A', 't')\n",
      "    dna=dna.upper()\n",
      "    return dna"
     ],
     "language": "python",
     "metadata": {},
     "outputs": [],
     "prompt_number": 40
    },
    {
     "cell_type": "code",
     "collapsed": false,
     "input": [
      "dna_sequence_compliment(\"aTggcttaaaggttaagcgcgcgatatatatatg\")"
     ],
     "language": "python",
     "metadata": {},
     "outputs": [
      {
       "metadata": {},
       "output_type": "pyout",
       "prompt_number": 41,
       "text": [
        "'TACCGAATTTCCAATTCGCGCGCTATATATATAC'"
       ]
      }
     ],
     "prompt_number": 41
    },
    {
     "cell_type": "code",
     "collapsed": false,
     "input": [
      "help(dna_sequence_compliment)"
     ],
     "language": "python",
     "metadata": {},
     "outputs": [
      {
       "output_type": "stream",
       "stream": "stdout",
       "text": [
        "Help on function dna_sequence_compliment in module __main__:\n",
        "\n",
        "dna_sequence_compliment(dna)\n",
        "    This function is intended to take a DNA string and return its compliment not the reverse compliment\n",
        "\n"
       ]
      }
     ],
     "prompt_number": 33
    },
    {
     "cell_type": "code",
     "collapsed": false,
     "input": [],
     "language": "python",
     "metadata": {},
     "outputs": []
    }
   ],
   "metadata": {}
  }
 ]
}